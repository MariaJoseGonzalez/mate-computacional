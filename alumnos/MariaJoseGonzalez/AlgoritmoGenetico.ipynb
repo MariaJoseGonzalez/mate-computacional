{
 "metadata": {
  "name": "",
  "signature": "sha256:1c0a73302d065053d2e5f93e5613f2c3684b747ae9ade13fdc458b47d4ef3d59"
 },
 "nbformat": 3,
 "nbformat_minor": 0,
 "worksheets": [
  {
   "cells": [
    {
     "cell_type": "code",
     "collapsed": false,
     "input": [
      "class GA:\n",
      "    def _init_(self,tamano_poblacion,tasa_mutacion,tasa_crossover,max_generaciones,fitness):\n",
      "        self.tamano_poblacion = tamano_poblacion\n",
      "        self.tasa_mutacion = tasa_mutacion\n",
      "        self.tasa_crossover = tasa_crossover\n",
      "        self.max_generaciones = max_generaciones\n",
      "        self.fitness = fitness\n",
      "        self.poblacion = []\n",
      "        self.generacion = 0\n",
      "        self.mejor_solucion_historica = None\n",
      "        self.mejor_solucion_actual = None\n",
      "    \n",
      "    def poblar(self):\n",
      "        for i in range(self.tamano_poblacion):\n",
      "            pob = BitCromosoma()\n",
      "            self.poblacion.append(pob)\n",
      "    \n",
      "    def _str_(self):\n",
      "        for i in range (len(self.poblacion)):\n",
      "            print self.poblacion[i]\n",
      "        print \"Mejor solucion historica \" + self.mejor_solucion_historica\n",
      "        print \"Mejor solucion actual \" + self.mejor_solucion_actual\n",
      "        print \"Numero de generacion \" + self.generacion\n",
      "        \n",
      "    def \n",
      "        \n",
      "        "
     ],
     "language": "python",
     "metadata": {},
     "outputs": [],
     "prompt_number": 3
    },
    {
     "cell_type": "code",
     "collapsed": false,
     "input": [
      "class Cromosoma:\n",
      "    pass"
     ],
     "language": "python",
     "metadata": {},
     "outputs": [],
     "prompt_number": 4
    },
    {
     "cell_type": "code",
     "collapsed": false,
     "input": [
      "class BitCromosoma:\n",
      "    def _init_(self, longitud, cadena):\n",
      "        self.longitud = longitud\n",
      "        if cadena == None:\n",
      "            self.cadena =\n",
      "        else:\n",
      "            self.cadena = cadena\n"
     ],
     "language": "python",
     "metadata": {},
     "outputs": [],
     "prompt_number": 6
    },
    {
     "cell_type": "code",
     "collapsed": false,
     "input": [],
     "language": "python",
     "metadata": {},
     "outputs": []
    }
   ],
   "metadata": {}
  }
 ]
}